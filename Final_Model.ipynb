{
 "cells": [
  {
   "cell_type": "code",
   "execution_count": 6,
   "id": "a762bdf9",
   "metadata": {},
   "outputs": [],
   "source": [
    "import pandas as pd\n",
    "import numpy as np"
   ]
  },
  {
   "cell_type": "code",
   "execution_count": 7,
   "id": "c6a39b64",
   "metadata": {},
   "outputs": [
    {
     "data": {
      "text/plain": [
       "array([[0.81676, 0.8167 , 0.8167 , 0.81681, 0.81626, 0.81702]])"
      ]
     },
     "execution_count": 7,
     "metadata": {},
     "output_type": "execute_result"
    }
   ],
   "source": [
    "training_set_input1 = np.array([[81.676,81.670,81.670,81.681,81.626,81.702]])\n",
    "for i in training_set_input1 :\n",
    "    training_set_input2 = training_set_input1*0.01\n",
    "    \n",
    "training_set_input2"
   ]
  },
  {
   "cell_type": "code",
   "execution_count": 8,
   "id": "c50f8cbd",
   "metadata": {},
   "outputs": [
    {
     "data": {
      "text/plain": [
       "array([[0.81653]])"
      ]
     },
     "execution_count": 8,
     "metadata": {},
     "output_type": "execute_result"
    }
   ],
   "source": [
    "training_set_output1 = np.array([[81.653]])\n",
    "for i in training_set_output1 :\n",
    "    training_set_output2 = training_set_output1*0.01\n",
    "    \n",
    "training_set_output2"
   ]
  },
  {
   "cell_type": "code",
   "execution_count": 9,
   "id": "616e83ca",
   "metadata": {},
   "outputs": [
    {
     "name": "stdout",
     "output_type": "stream",
     "text": [
      "Random starting synaptic weights: \n",
      "[[-0.16595599]\n",
      " [ 0.44064899]\n",
      " [-0.99977125]\n",
      " [-0.39533485]\n",
      " [-0.70648822]\n",
      " [-0.81532281]]\n",
      "New synaptic weights after training: \n",
      "[[ 0.57913887]\n",
      " [ 1.18568912]\n",
      " [-0.25473112]\n",
      " [ 0.34980562]\n",
      " [ 0.03815052]\n",
      " [-0.06999076]]\n"
     ]
    }
   ],
   "source": [
    "from numpy import exp, array, random, dot\n",
    "\n",
    "\n",
    "class NeuralNetwork():\n",
    "    def __init__(self):\n",
    "        # Seed the random number generator, so it generates the same numbers\n",
    "        # every time the program runs.\n",
    "        random.seed(1)\n",
    "\n",
    "        # We model a single neuron, with 6 input connections and 1 output connection.\n",
    "        # We assign random weights to a 6 x 1 matrix, with values in the range -1 to 1\n",
    "        # and mean 0.\n",
    "        self.synaptic_weights = 2 * random.random((6, 1)) - 1\n",
    "\n",
    "    # The Sigmoid function, which describes an S shaped curve.\n",
    "    # We pass the weighted sum of the inputs through this function to\n",
    "    # normalise them between 0 and 1.\n",
    "    def __sigmoid(self, x):\n",
    "        return 1 / (1 + exp(-x))\n",
    "\n",
    "    # The derivative of the Sigmoid function.\n",
    "    # This is the gradient of the Sigmoid curve.\n",
    "    # It indicates how confident we are about the existing weight.\n",
    "    def __sigmoid_derivative(self, x):\n",
    "        return x * (1 - x)\n",
    "\n",
    "    # We train the neural network through a process of trial and error.\n",
    "    # Adjusting the synaptic weights each time.\n",
    "    def train(self, training_set_input, training_set_output, number_of_training_iterations):\n",
    "        for iteration in range(number_of_training_iterations):\n",
    "            # Pass the training set through our neural network (a single neuron).\n",
    "            output = self.think(training_set_input)\n",
    "\n",
    "            # Calculate the error (The difference between the desired output\n",
    "            # and the predicted output).\n",
    "            error = training_set_output - output\n",
    "\n",
    "            # Multiply the error by the input and again by the gradient of the Sigmoid curve.\n",
    "            # This means less confident weights are adjusted more.\n",
    "            adjustment = dot(training_set_input.T, error * self.__sigmoid_derivative(output))\n",
    "\n",
    "            # Adjust the weights.\n",
    "            self.synaptic_weights += adjustment\n",
    "\n",
    "    # The neural network thinks.\n",
    "    def think(self, inputs):\n",
    "        # Pass inputs through our neural network (our single neuron).\n",
    "        return self.__sigmoid(dot(inputs, self.synaptic_weights))\n",
    "\n",
    "\n",
    "if __name__ == \"__main__\":\n",
    "\n",
    "    #Intialise a single neuron neural network.\n",
    "    neural_network = NeuralNetwork()\n",
    "\n",
    "    print(\"Random starting synaptic weights: \")\n",
    "    print(neural_network.synaptic_weights)\n",
    "\n",
    "    # The training set. We have 1 example, of 6 input values\n",
    "    # and 1 output value.\n",
    "training_set_input = training_set_input2\n",
    "\n",
    "training_set_output = training_set_output2\n",
    "\n",
    "# Train the neural network using a training set.\n",
    "# Do it 200 times and make small adjustments each time.\n",
    "neural_network.train(training_set_input, training_set_output, 900)\n",
    "\n",
    "print(\"New synaptic weights after training: \")\n",
    "print(neural_network.synaptic_weights)\n"
   ]
  },
  {
   "cell_type": "code",
   "execution_count": 10,
   "id": "3bed832c",
   "metadata": {},
   "outputs": [],
   "source": [
    "new_value = array([[ 81.653,81.676,81.670,81.670,81.681,81.626]])\n",
    "for i in new_value:\n",
    "    new_value = new_value*0.01"
   ]
  },
  {
   "cell_type": "code",
   "execution_count": 11,
   "id": "417cb32c",
   "metadata": {
    "scrolled": true
   },
   "outputs": [
    {
     "name": "stdout",
     "output_type": "stream",
     "text": [
      "[[81.65260505]]\n"
     ]
    }
   ],
   "source": [
    "Predicted_Value = neural_network.think(array(new_value))\n",
    "Predicted_Value = Predicted_Value *100\n",
    "print(Predicted_Value)"
   ]
  },
  {
   "cell_type": "code",
   "execution_count": null,
   "id": "b8dbc1b7",
   "metadata": {},
   "outputs": [],
   "source": []
  },
  {
   "cell_type": "markdown",
   "id": "2a010642",
   "metadata": {},
   "source": [
    "# Error Calculation"
   ]
  },
  {
   "cell_type": "code",
   "execution_count": 12,
   "id": "357f6b16",
   "metadata": {},
   "outputs": [
    {
     "name": "stdout",
     "output_type": "stream",
     "text": [
      "The RMSE between actual and predicted values \n",
      "\n",
      "0.00039495088725516325\n"
     ]
    }
   ],
   "source": [
    "import math  \n",
    "import sklearn.metrics  \n",
    "actual = training_set_output2*100\n",
    "predicted = Predicted_Value\n",
    "mse = sklearn.metrics.mean_squared_error(actual, predicted)  \n",
    "  \n",
    "rmse = math.sqrt(mse)  \n",
    "  \n",
    "print(\"The RMSE between actual and predicted values \\n\")\n",
    "print(rmse)"
   ]
  },
  {
   "cell_type": "markdown",
   "id": "6c75a4d2",
   "metadata": {},
   "source": [
    "# Try with the whole Dataset"
   ]
  },
  {
   "cell_type": "code",
   "execution_count": 13,
   "id": "3f9937c3",
   "metadata": {},
   "outputs": [
    {
     "data": {
      "text/html": [
       "<div>\n",
       "<style scoped>\n",
       "    .dataframe tbody tr th:only-of-type {\n",
       "        vertical-align: middle;\n",
       "    }\n",
       "\n",
       "    .dataframe tbody tr th {\n",
       "        vertical-align: top;\n",
       "    }\n",
       "\n",
       "    .dataframe thead th {\n",
       "        text-align: right;\n",
       "    }\n",
       "</style>\n",
       "<table border=\"1\" class=\"dataframe\">\n",
       "  <thead>\n",
       "    <tr style=\"text-align: right;\">\n",
       "      <th></th>\n",
       "      <th>Date</th>\n",
       "      <th>Price</th>\n",
       "      <th>Open</th>\n",
       "      <th>High</th>\n",
       "      <th>Low</th>\n",
       "      <th>Volume</th>\n",
       "      <th>Chg</th>\n",
       "    </tr>\n",
       "  </thead>\n",
       "  <tbody>\n",
       "    <tr>\n",
       "      <th>0</th>\n",
       "      <td>25-Aug-20</td>\n",
       "      <td>74.327</td>\n",
       "      <td>74.100</td>\n",
       "      <td>74.335</td>\n",
       "      <td>74.075</td>\n",
       "      <td>0.92K</td>\n",
       "      <td>0.22%</td>\n",
       "    </tr>\n",
       "    <tr>\n",
       "      <th>1</th>\n",
       "      <td>24-Aug-20</td>\n",
       "      <td>74.168</td>\n",
       "      <td>74.922</td>\n",
       "      <td>74.922</td>\n",
       "      <td>73.962</td>\n",
       "      <td>4.90K</td>\n",
       "      <td>-1.01%</td>\n",
       "    </tr>\n",
       "    <tr>\n",
       "      <th>2</th>\n",
       "      <td>23-Aug-20</td>\n",
       "      <td>74.922</td>\n",
       "      <td>74.922</td>\n",
       "      <td>74.922</td>\n",
       "      <td>74.922</td>\n",
       "      <td>0</td>\n",
       "      <td>0.00%</td>\n",
       "    </tr>\n",
       "    <tr>\n",
       "      <th>3</th>\n",
       "      <td>21-Aug-20</td>\n",
       "      <td>74.920</td>\n",
       "      <td>74.980</td>\n",
       "      <td>75.005</td>\n",
       "      <td>74.820</td>\n",
       "      <td>3.16K</td>\n",
       "      <td>-0.12%</td>\n",
       "    </tr>\n",
       "    <tr>\n",
       "      <th>4</th>\n",
       "      <td>20-Aug-20</td>\n",
       "      <td>75.012</td>\n",
       "      <td>74.973</td>\n",
       "      <td>75.132</td>\n",
       "      <td>74.935</td>\n",
       "      <td>3.70K</td>\n",
       "      <td>0.22%</td>\n",
       "    </tr>\n",
       "    <tr>\n",
       "      <th>...</th>\n",
       "      <td>...</td>\n",
       "      <td>...</td>\n",
       "      <td>...</td>\n",
       "      <td>...</td>\n",
       "      <td>...</td>\n",
       "      <td>...</td>\n",
       "      <td>...</td>\n",
       "    </tr>\n",
       "    <tr>\n",
       "      <th>2605</th>\n",
       "      <td>01-Sep-10</td>\n",
       "      <td>46.675</td>\n",
       "      <td>47.045</td>\n",
       "      <td>47.045</td>\n",
       "      <td>46.575</td>\n",
       "      <td>0</td>\n",
       "      <td>-0.83%</td>\n",
       "    </tr>\n",
       "    <tr>\n",
       "      <th>2606</th>\n",
       "      <td>31-Aug-10</td>\n",
       "      <td>47.065</td>\n",
       "      <td>46.875</td>\n",
       "      <td>47.150</td>\n",
       "      <td>46.505</td>\n",
       "      <td>0</td>\n",
       "      <td>0.32%</td>\n",
       "    </tr>\n",
       "    <tr>\n",
       "      <th>2607</th>\n",
       "      <td>30-Aug-10</td>\n",
       "      <td>46.915</td>\n",
       "      <td>46.725</td>\n",
       "      <td>46.935</td>\n",
       "      <td>46.385</td>\n",
       "      <td>0</td>\n",
       "      <td>0.22%</td>\n",
       "    </tr>\n",
       "    <tr>\n",
       "      <th>2608</th>\n",
       "      <td>27-Aug-10</td>\n",
       "      <td>46.810</td>\n",
       "      <td>46.755</td>\n",
       "      <td>47.010</td>\n",
       "      <td>46.565</td>\n",
       "      <td>0</td>\n",
       "      <td>-0.07%</td>\n",
       "    </tr>\n",
       "    <tr>\n",
       "      <th>2609</th>\n",
       "      <td>26-Aug-10</td>\n",
       "      <td>46.845</td>\n",
       "      <td>46.825</td>\n",
       "      <td>46.910</td>\n",
       "      <td>46.505</td>\n",
       "      <td>0</td>\n",
       "      <td>-0.13%</td>\n",
       "    </tr>\n",
       "  </tbody>\n",
       "</table>\n",
       "<p>2610 rows × 7 columns</p>\n",
       "</div>"
      ],
      "text/plain": [
       "           Date   Price    Open    High     Low Volume     Chg\n",
       "0     25-Aug-20  74.327  74.100  74.335  74.075  0.92K   0.22%\n",
       "1     24-Aug-20  74.168  74.922  74.922  73.962  4.90K  -1.01%\n",
       "2     23-Aug-20  74.922  74.922  74.922  74.922      0   0.00%\n",
       "3     21-Aug-20  74.920  74.980  75.005  74.820  3.16K  -0.12%\n",
       "4     20-Aug-20  75.012  74.973  75.132  74.935  3.70K   0.22%\n",
       "...         ...     ...     ...     ...     ...    ...     ...\n",
       "2605  01-Sep-10  46.675  47.045  47.045  46.575      0  -0.83%\n",
       "2606  31-Aug-10  47.065  46.875  47.150  46.505      0   0.32%\n",
       "2607  30-Aug-10  46.915  46.725  46.935  46.385      0   0.22%\n",
       "2608  27-Aug-10  46.810  46.755  47.010  46.565      0  -0.07%\n",
       "2609  26-Aug-10  46.845  46.825  46.910  46.505      0  -0.13%\n",
       "\n",
       "[2610 rows x 7 columns]"
      ]
     },
     "execution_count": 13,
     "metadata": {},
     "output_type": "execute_result"
    }
   ],
   "source": [
    "exchange_data = pd.read_csv(r\"D:\\Study Subjects\\ML Domain\\Predictive analysis\\forex_data_10y.csv\")\n",
    "exchange_data "
   ]
  },
  {
   "cell_type": "code",
   "execution_count": 14,
   "id": "9a1b6d7b",
   "metadata": {},
   "outputs": [
    {
     "data": {
      "text/plain": [
       "array([[74.1  ],\n",
       "       [74.922],\n",
       "       [74.922],\n",
       "       [74.98 ],\n",
       "       [74.973]])"
      ]
     },
     "execution_count": 14,
     "metadata": {},
     "output_type": "execute_result"
    }
   ],
   "source": [
    "exchange_data = pd.read_csv(r\"D:\\Study Subjects\\ML Domain\\Predictive analysis\\forex_data_10y.csv\")\n",
    "df = exchange_data.Open\n",
    "df1 = df.reindex(index=df.index[::-1])\n",
    "data = pd.DataFrame(df1)\n",
    "data.reset_index(inplace = True, drop = True)\n",
    "array_data = pd.DataFrame(exchange_data['Open'].head())\n",
    "array_data = (array_data.to_numpy(dtype=float))\n",
    "array_data"
   ]
  },
  {
   "cell_type": "code",
   "execution_count": 15,
   "id": "415de35a",
   "metadata": {},
   "outputs": [],
   "source": [
    "import numpy as np\n",
    "as_strided = np.lib.stride_tricks.as_strided  \n",
    "win = 7\n",
    "v = as_strided(data.Open, (len(data) - (win - 1), win), (data.Open.values.strides * 2))"
   ]
  },
  {
   "cell_type": "code",
   "execution_count": 16,
   "id": "97d59efd",
   "metadata": {},
   "outputs": [
    {
     "data": {
      "text/html": [
       "<div>\n",
       "<style scoped>\n",
       "    .dataframe tbody tr th:only-of-type {\n",
       "        vertical-align: middle;\n",
       "    }\n",
       "\n",
       "    .dataframe tbody tr th {\n",
       "        vertical-align: top;\n",
       "    }\n",
       "\n",
       "    .dataframe thead th {\n",
       "        text-align: right;\n",
       "    }\n",
       "</style>\n",
       "<table border=\"1\" class=\"dataframe\">\n",
       "  <thead>\n",
       "    <tr style=\"text-align: right;\">\n",
       "      <th></th>\n",
       "      <th>x1</th>\n",
       "      <th>x2</th>\n",
       "      <th>x3</th>\n",
       "      <th>x4</th>\n",
       "      <th>x5</th>\n",
       "      <th>x6</th>\n",
       "      <th>y</th>\n",
       "    </tr>\n",
       "  </thead>\n",
       "  <tbody>\n",
       "    <tr>\n",
       "      <th>0</th>\n",
       "      <td>46.825</td>\n",
       "      <td>46.755</td>\n",
       "      <td>46.725</td>\n",
       "      <td>46.875</td>\n",
       "      <td>47.045</td>\n",
       "      <td>46.595</td>\n",
       "      <td>46.605</td>\n",
       "    </tr>\n",
       "    <tr>\n",
       "      <th>1</th>\n",
       "      <td>46.755</td>\n",
       "      <td>46.725</td>\n",
       "      <td>46.875</td>\n",
       "      <td>47.045</td>\n",
       "      <td>46.595</td>\n",
       "      <td>46.605</td>\n",
       "      <td>46.395</td>\n",
       "    </tr>\n",
       "    <tr>\n",
       "      <th>2</th>\n",
       "      <td>46.725</td>\n",
       "      <td>46.875</td>\n",
       "      <td>47.045</td>\n",
       "      <td>46.595</td>\n",
       "      <td>46.605</td>\n",
       "      <td>46.395</td>\n",
       "      <td>46.505</td>\n",
       "    </tr>\n",
       "    <tr>\n",
       "      <th>3</th>\n",
       "      <td>46.875</td>\n",
       "      <td>47.045</td>\n",
       "      <td>46.595</td>\n",
       "      <td>46.605</td>\n",
       "      <td>46.395</td>\n",
       "      <td>46.505</td>\n",
       "      <td>46.797</td>\n",
       "    </tr>\n",
       "    <tr>\n",
       "      <th>4</th>\n",
       "      <td>47.045</td>\n",
       "      <td>46.595</td>\n",
       "      <td>46.605</td>\n",
       "      <td>46.395</td>\n",
       "      <td>46.505</td>\n",
       "      <td>46.797</td>\n",
       "      <td>46.460</td>\n",
       "    </tr>\n",
       "    <tr>\n",
       "      <th>...</th>\n",
       "      <td>...</td>\n",
       "      <td>...</td>\n",
       "      <td>...</td>\n",
       "      <td>...</td>\n",
       "      <td>...</td>\n",
       "      <td>...</td>\n",
       "      <td>...</td>\n",
       "    </tr>\n",
       "    <tr>\n",
       "      <th>2599</th>\n",
       "      <td>74.615</td>\n",
       "      <td>74.775</td>\n",
       "      <td>74.890</td>\n",
       "      <td>74.903</td>\n",
       "      <td>74.740</td>\n",
       "      <td>74.655</td>\n",
       "      <td>74.973</td>\n",
       "    </tr>\n",
       "    <tr>\n",
       "      <th>2600</th>\n",
       "      <td>74.775</td>\n",
       "      <td>74.890</td>\n",
       "      <td>74.903</td>\n",
       "      <td>74.740</td>\n",
       "      <td>74.655</td>\n",
       "      <td>74.973</td>\n",
       "      <td>74.980</td>\n",
       "    </tr>\n",
       "    <tr>\n",
       "      <th>2601</th>\n",
       "      <td>74.890</td>\n",
       "      <td>74.903</td>\n",
       "      <td>74.740</td>\n",
       "      <td>74.655</td>\n",
       "      <td>74.973</td>\n",
       "      <td>74.980</td>\n",
       "      <td>74.922</td>\n",
       "    </tr>\n",
       "    <tr>\n",
       "      <th>2602</th>\n",
       "      <td>74.903</td>\n",
       "      <td>74.740</td>\n",
       "      <td>74.655</td>\n",
       "      <td>74.973</td>\n",
       "      <td>74.980</td>\n",
       "      <td>74.922</td>\n",
       "      <td>74.922</td>\n",
       "    </tr>\n",
       "    <tr>\n",
       "      <th>2603</th>\n",
       "      <td>74.740</td>\n",
       "      <td>74.655</td>\n",
       "      <td>74.973</td>\n",
       "      <td>74.980</td>\n",
       "      <td>74.922</td>\n",
       "      <td>74.922</td>\n",
       "      <td>74.100</td>\n",
       "    </tr>\n",
       "  </tbody>\n",
       "</table>\n",
       "<p>2604 rows × 7 columns</p>\n",
       "</div>"
      ],
      "text/plain": [
       "          x1      x2      x3      x4      x5      x6       y\n",
       "0     46.825  46.755  46.725  46.875  47.045  46.595  46.605\n",
       "1     46.755  46.725  46.875  47.045  46.595  46.605  46.395\n",
       "2     46.725  46.875  47.045  46.595  46.605  46.395  46.505\n",
       "3     46.875  47.045  46.595  46.605  46.395  46.505  46.797\n",
       "4     47.045  46.595  46.605  46.395  46.505  46.797  46.460\n",
       "...      ...     ...     ...     ...     ...     ...     ...\n",
       "2599  74.615  74.775  74.890  74.903  74.740  74.655  74.973\n",
       "2600  74.775  74.890  74.903  74.740  74.655  74.973  74.980\n",
       "2601  74.890  74.903  74.740  74.655  74.973  74.980  74.922\n",
       "2602  74.903  74.740  74.655  74.973  74.980  74.922  74.922\n",
       "2603  74.740  74.655  74.973  74.980  74.922  74.922  74.100\n",
       "\n",
       "[2604 rows x 7 columns]"
      ]
     },
     "execution_count": 16,
     "metadata": {},
     "output_type": "execute_result"
    }
   ],
   "source": [
    "data_final = pd.DataFrame(v)\n",
    "data_final.rename(columns={0: 'x1',1: 'x2',2: 'x3',3: 'x4',4: 'x5',5: 'x6',6: 'y'}, inplace=True)\n",
    "data_final "
   ]
  },
  {
   "cell_type": "code",
   "execution_count": 17,
   "id": "bdeb0a2c",
   "metadata": {},
   "outputs": [
    {
     "data": {
      "text/plain": [
       "array([[0.46825, 0.46755, 0.46725, 0.46875, 0.47045, 0.46595],\n",
       "       [0.46755, 0.46725, 0.46875, 0.47045, 0.46595, 0.46605],\n",
       "       [0.46725, 0.46875, 0.47045, 0.46595, 0.46605, 0.46395],\n",
       "       ...,\n",
       "       [0.7489 , 0.74903, 0.7474 , 0.74655, 0.74973, 0.7498 ],\n",
       "       [0.74903, 0.7474 , 0.74655, 0.74973, 0.7498 , 0.74922],\n",
       "       [0.7474 , 0.74655, 0.74973, 0.7498 , 0.74922, 0.74922]])"
      ]
     },
     "execution_count": 17,
     "metadata": {},
     "output_type": "execute_result"
    }
   ],
   "source": [
    "x = data_final.drop(\"y\", axis='columns')\n",
    "x = (x.to_numpy(dtype=float))\n",
    "training_set_input1 = x\n",
    "for i in training_set_input1:\n",
    "    x = training_set_input1*0.01\n",
    "x"
   ]
  },
  {
   "cell_type": "code",
   "execution_count": 18,
   "id": "eb390fd4",
   "metadata": {
    "scrolled": true
   },
   "outputs": [
    {
     "data": {
      "text/plain": [
       "array([[0.46605],\n",
       "       [0.46395],\n",
       "       [0.46505],\n",
       "       ...,\n",
       "       [0.74922],\n",
       "       [0.74922],\n",
       "       [0.741  ]])"
      ]
     },
     "execution_count": 18,
     "metadata": {},
     "output_type": "execute_result"
    }
   ],
   "source": [
    "y = data_final.y\n",
    "y = pd.DataFrame(y)\n",
    "training_set_output1 = (y.to_numpy(dtype=float))\n",
    "for i in training_set_output1 :\n",
    "    y = training_set_output1*0.01\n",
    "y"
   ]
  },
  {
   "cell_type": "code",
   "execution_count": null,
   "id": "0f83e7f5",
   "metadata": {},
   "outputs": [],
   "source": [
    "from numpy import exp, array, random, dot\n",
    "\n",
    "Y_Predicted_Value = []\n",
    "\n",
    "def Head():\n",
    "    \n",
    "    class NeuralNetwork():\n",
    "        def __init__(self):\n",
    "            # Seed the random number generator, so it generates the same numbers\n",
    "            # every time the program runs.\n",
    "            random.seed(1)\n",
    "\n",
    "            # We model a single neuron, with 6 input connections and 1 output connection.\n",
    "            # We assign random weights to a 6 x 1 matrix, with values in the range -1 to 1\n",
    "            # and mean 0.\n",
    "            self.synaptic_weights = 2 * random.random((6, 1)) - 1\n",
    "\n",
    "        # The Sigmoid function, which describes an S shaped curve.\n",
    "        # We pass the weighted sum of the inputs through this function to\n",
    "        # normalise them between 0 and 1.\n",
    "        def __sigmoid(self, x):\n",
    "            return 1 / (1 + exp(-x))\n",
    "\n",
    "        # The derivative of the Sigmoid function.\n",
    "        # This is the gradient of the Sigmoid curve.\n",
    "        # It indicates how confident we are about the existing weight.\n",
    "        def __sigmoid_derivative(self, x):\n",
    "            return x * (1 - x)\n",
    "\n",
    "        # We train the neural network through a process of trial and error.\n",
    "        # Adjusting the synaptic weights each time.\n",
    "        def train(self, training_set_input, training_set_output, number_of_training_iterations):\n",
    "            for iteration in range(number_of_training_iterations):\n",
    "                # Pass the training set through our neural network (a single neuron).\n",
    "                output = self.think(training_set_input)\n",
    "\n",
    "                # Calculate the error (The difference between the desired output\n",
    "                # and the predicted output).\n",
    "                error = training_set_output - output\n",
    "\n",
    "                # Multiply the error by the input and again by the gradient of the Sigmoid curve.\n",
    "                # This means less confident weights are adjusted more.\n",
    "                adjustment = dot(training_set_input.T, error * self.__sigmoid_derivative(output))\n",
    "\n",
    "                # Adjust the weights.\n",
    "                self.synaptic_weights += adjustment\n",
    "\n",
    "        # The neural network thinks.\n",
    "        def think(self, inputs):\n",
    "            # Pass inputs through our neural network (our single neuron).\n",
    "            return self.__sigmoid(dot(inputs, self.synaptic_weights))\n",
    "\n",
    "\n",
    "    if __name__ == \"__main__\":\n",
    "\n",
    "        #Intialise a single neuron neural network.\n",
    "        neural_network = NeuralNetwork()\n",
    "\n",
    "\n",
    "    # Train the neural network using a training set.\n",
    "    # Do it 200 times and make small adjustments each time.\n",
    "    neural_network.train(training_set_input, training_set_output, 200)\n",
    "\n",
    "    new_value = training_set_input\n",
    "\n",
    "    y_predict = neural_network.think(array(new_value))\n",
    "    Y_Predicted_Value.append(y_predict)\n",
    "\n",
    "# Passing the whole dataset through for loop with a multiplication of 0.01\n",
    "for i in range(0, len(x)):    \n",
    "        training_set_input2 = x[i]\n",
    "        training_set_input2.shape = (6, 1)\n",
    "        training_set_input = training_set_input2.T\n",
    "        \n",
    "        for i in range(0, len(y)):    \n",
    "            training_set_output2 = y[i]\n",
    "            training_set_output2.shape = (1, )\n",
    "            training_set_output = training_set_output2\n",
    "            \n",
    "            Head()\n",
    "            \n",
    "        break"
   ]
  },
  {
   "cell_type": "code",
   "execution_count": null,
   "id": "53a0962a",
   "metadata": {},
   "outputs": [],
   "source": [
    "Y_Predicted_Value"
   ]
  },
  {
   "cell_type": "code",
   "execution_count": 28,
   "id": "a5754c11",
   "metadata": {},
   "outputs": [
    {
     "data": {
      "text/plain": [
       "array([[46.60499831],\n",
       "       [46.39499828],\n",
       "       [46.50499829],\n",
       "       ...,\n",
       "       [74.92058422],\n",
       "       [74.92058422],\n",
       "       [74.0990207 ]])"
      ]
     },
     "execution_count": 28,
     "metadata": {},
     "output_type": "execute_result"
    }
   ],
   "source": [
    "Y_Predict_Value = np.reshape(Y_Predicted_Value,(2604, 1))\n",
    "\n",
    "for i in Y_Predict_Value:\n",
    "    Y_Predict = Y_Predict_Value*100\n",
    "    \n",
    "Y_Predict"
   ]
  },
  {
   "cell_type": "markdown",
   "id": "2ae32d6e",
   "metadata": {},
   "source": [
    "# ERROR"
   ]
  },
  {
   "cell_type": "markdown",
   "id": "ca777579",
   "metadata": {},
   "source": [
    "### (1)RMSE"
   ]
  },
  {
   "cell_type": "code",
   "execution_count": 29,
   "id": "227b259f",
   "metadata": {
    "scrolled": true
   },
   "outputs": [
    {
     "name": "stdout",
     "output_type": "stream",
     "text": [
      "--------------------------------------------\n",
      "The RMSE between actual and predicted values \n",
      "-------------------------------------------- \n",
      "\n",
      "0.0004351728217580404\n"
     ]
    }
   ],
   "source": [
    "import math  \n",
    "import sklearn.metrics  \n",
    "actual = training_set_output1\n",
    "predicted = Y_Predict\n",
    "mse = sklearn.metrics.mean_squared_error(actual, predicted)  \n",
    "  \n",
    "rmse = math.sqrt(mse)  \n",
    "\n",
    "print(\"--------------------------------------------\") \n",
    "print(\"The RMSE between actual and predicted values \")\n",
    "print(\"-------------------------------------------- \\n\") \n",
    "print(rmse)"
   ]
  },
  {
   "cell_type": "code",
   "execution_count": null,
   "id": "c772e725",
   "metadata": {},
   "outputs": [],
   "source": []
  },
  {
   "cell_type": "markdown",
   "id": "4d618045",
   "metadata": {},
   "source": [
    "### (2)MAPE"
   ]
  },
  {
   "cell_type": "code",
   "execution_count": 47,
   "id": "8bb45870",
   "metadata": {},
   "outputs": [],
   "source": [
    "#Defining MAPE function\n",
    "def MAPE(actual, predicted):\n",
    "    mape = np.mean(np.abs((actual - predicted)/actual))*100\n",
    "    return mape"
   ]
  },
  {
   "cell_type": "code",
   "execution_count": 48,
   "id": "840176ae",
   "metadata": {},
   "outputs": [
    {
     "name": "stdout",
     "output_type": "stream",
     "text": [
      "--------------------------------------------\n",
      "The MAPE between actual and predicted values \n",
      "-------------------------------------------- \n",
      "\n"
     ]
    },
    {
     "data": {
      "text/plain": [
       "0.7720632924253067"
      ]
     },
     "execution_count": 48,
     "metadata": {},
     "output_type": "execute_result"
    }
   ],
   "source": [
    "actual = training_set_output1\n",
    "predicted = Y_Predict\n",
    "print(\"--------------------------------------------\") \n",
    "print(\"The MAPE between actual and predicted values \")\n",
    "print(\"-------------------------------------------- \\n\")\n",
    "MAPE(actual, predicted)"
   ]
  },
  {
   "cell_type": "markdown",
   "id": "3da30877",
   "metadata": {},
   "source": [
    "# Visualize the Data"
   ]
  },
  {
   "cell_type": "code",
   "execution_count": 60,
   "id": "6a80ece4",
   "metadata": {
    "scrolled": false
   },
   "outputs": [
    {
     "data": {
      "image/png": "[encoded data removed]",
      "text/plain": [
       "<Figure size 432x288 with 1 Axes>"
      ]
     },
     "metadata": {
      "needs_background": "light"
     },
     "output_type": "display_data"
    }
   ],
   "source": [
    "import matplotlib.pyplot as plt\n",
    "\n",
    "plt.plot(training_set_output1, color='black', label='Actual Prices')\n",
    "plt.plot(Y_Predict, color='pink', label='Prediction Prices')\n",
    "plt.title('Actual  Vs  Predicted Price')\n",
    "plt.ylabel('\\n Exchange Rate');\n",
    "plt.xlabel('Days ');\n",
    "plt.show()"
   ]
  }
 ],
 "metadata": {
  "kernelspec": {
   "display_name": "Python 3 (ipykernel)",
   "language": "python",
   "name": "python3"
  },
  "language_info": {
   "codemirror_mode": {
    "name": "ipython",
    "version": 3
   },
   "file_extension": ".py",
   "mimetype": "text/x-python",
   "name": "python",
   "nbconvert_exporter": "python",
   "pygments_lexer": "ipython3",
   "version": "3.11.5"
  }
 },
 "nbformat": 4,
 "nbformat_minor": 5
}
